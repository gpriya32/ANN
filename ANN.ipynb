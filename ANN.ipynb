{
  "nbformat": 4,
  "nbformat_minor": 0,
  "metadata": {
    "colab": {
      "name": "ANN.ipynb",
      "provenance": [],
      "collapsed_sections": [],
      "toc_visible": true,
      "mount_file_id": "1XZq8JUKTljsZQsZt0XH1gvnjt49QVxb2",
      "authorship_tag": "ABX9TyODM384B0Mafu596w1qpgLp",
      "include_colab_link": true
    },
    "kernelspec": {
      "name": "python3",
      "display_name": "Python 3"
    }
  },
  "cells": [
    {
      "cell_type": "markdown",
      "metadata": {
        "id": "view-in-github",
        "colab_type": "text"
      },
      "source": [
        "<a href=\"https://colab.research.google.com/github/gpriya32/ANN/blob/master/ANN.ipynb\" target=\"_parent\"><img src=\"https://colab.research.google.com/assets/colab-badge.svg\" alt=\"Open In Colab\"/></a>"
      ]
    },
    {
      "cell_type": "code",
      "metadata": {
        "id": "ng89ITCJJbmg",
        "colab_type": "code",
        "colab": {}
      },
      "source": [
        "import numpy as np\n",
        "import pandas as pd\n",
        "import tensorflow as tf\n",
        "import matplotlib.pyplot as plt\n"
      ],
      "execution_count": 545,
      "outputs": []
    },
    {
      "cell_type": "code",
      "metadata": {
        "id": "ebTobF23JoeW",
        "colab_type": "code",
        "colab": {
          "base_uri": "https://localhost:8080/",
          "height": 565
        },
        "outputId": "a2f3c6e0-4f4f-4698-dbea-ad3e1ec41e05"
      },
      "source": [
        "data=pd.read_csv('/content/Car_Purchasing_Data.csv', encoding = \"ISO-8859-1\")\n",
        "data"
      ],
      "execution_count": 546,
      "outputs": [
        {
          "output_type": "execute_result",
          "data": {
            "text/html": [
              "<div>\n",
              "<style scoped>\n",
              "    .dataframe tbody tr th:only-of-type {\n",
              "        vertical-align: middle;\n",
              "    }\n",
              "\n",
              "    .dataframe tbody tr th {\n",
              "        vertical-align: top;\n",
              "    }\n",
              "\n",
              "    .dataframe thead th {\n",
              "        text-align: right;\n",
              "    }\n",
              "</style>\n",
              "<table border=\"1\" class=\"dataframe\">\n",
              "  <thead>\n",
              "    <tr style=\"text-align: right;\">\n",
              "      <th></th>\n",
              "      <th>Customer Name</th>\n",
              "      <th>Customer e-mail</th>\n",
              "      <th>Country</th>\n",
              "      <th>Gender</th>\n",
              "      <th>Age</th>\n",
              "      <th>Annual Salary</th>\n",
              "      <th>Credit Card Debt</th>\n",
              "      <th>Net Worth</th>\n",
              "      <th>Car Purchase Amount</th>\n",
              "    </tr>\n",
              "  </thead>\n",
              "  <tbody>\n",
              "    <tr>\n",
              "      <th>0</th>\n",
              "      <td>Martina Avila</td>\n",
              "      <td>cubilia.Curae.Phasellus@quisaccumsanconvallis.edu</td>\n",
              "      <td>Bulgaria</td>\n",
              "      <td>0</td>\n",
              "      <td>41.851720</td>\n",
              "      <td>62812.09301</td>\n",
              "      <td>11609.380910</td>\n",
              "      <td>238961.2505</td>\n",
              "      <td>35321.45877</td>\n",
              "    </tr>\n",
              "    <tr>\n",
              "      <th>1</th>\n",
              "      <td>Harlan Barnes</td>\n",
              "      <td>eu.dolor@diam.co.uk</td>\n",
              "      <td>Belize</td>\n",
              "      <td>0</td>\n",
              "      <td>40.870623</td>\n",
              "      <td>66646.89292</td>\n",
              "      <td>9572.957136</td>\n",
              "      <td>530973.9078</td>\n",
              "      <td>45115.52566</td>\n",
              "    </tr>\n",
              "    <tr>\n",
              "      <th>2</th>\n",
              "      <td>Naomi Rodriquez</td>\n",
              "      <td>vulputate.mauris.sagittis@ametconsectetueradip...</td>\n",
              "      <td>Algeria</td>\n",
              "      <td>1</td>\n",
              "      <td>43.152897</td>\n",
              "      <td>53798.55112</td>\n",
              "      <td>11160.355060</td>\n",
              "      <td>638467.1773</td>\n",
              "      <td>42925.70921</td>\n",
              "    </tr>\n",
              "    <tr>\n",
              "      <th>3</th>\n",
              "      <td>Jade Cunningham</td>\n",
              "      <td>malesuada@dignissim.com</td>\n",
              "      <td>Cook Islands</td>\n",
              "      <td>1</td>\n",
              "      <td>58.271369</td>\n",
              "      <td>79370.03798</td>\n",
              "      <td>14426.164850</td>\n",
              "      <td>548599.0524</td>\n",
              "      <td>67422.36313</td>\n",
              "    </tr>\n",
              "    <tr>\n",
              "      <th>4</th>\n",
              "      <td>Cedric Leach</td>\n",
              "      <td>felis.ullamcorper.viverra@egetmollislectus.net</td>\n",
              "      <td>Brazil</td>\n",
              "      <td>1</td>\n",
              "      <td>57.313749</td>\n",
              "      <td>59729.15130</td>\n",
              "      <td>5358.712177</td>\n",
              "      <td>560304.0671</td>\n",
              "      <td>55915.46248</td>\n",
              "    </tr>\n",
              "    <tr>\n",
              "      <th>...</th>\n",
              "      <td>...</td>\n",
              "      <td>...</td>\n",
              "      <td>...</td>\n",
              "      <td>...</td>\n",
              "      <td>...</td>\n",
              "      <td>...</td>\n",
              "      <td>...</td>\n",
              "      <td>...</td>\n",
              "      <td>...</td>\n",
              "    </tr>\n",
              "    <tr>\n",
              "      <th>495</th>\n",
              "      <td>Walter</td>\n",
              "      <td>ligula@Cumsociis.ca</td>\n",
              "      <td>Nepal</td>\n",
              "      <td>0</td>\n",
              "      <td>41.462515</td>\n",
              "      <td>71942.40291</td>\n",
              "      <td>6995.902524</td>\n",
              "      <td>541670.1016</td>\n",
              "      <td>48901.44342</td>\n",
              "    </tr>\n",
              "    <tr>\n",
              "      <th>496</th>\n",
              "      <td>Vanna</td>\n",
              "      <td>Cum.sociis.natoque@Sedmolestie.edu</td>\n",
              "      <td>Zimbabwe</td>\n",
              "      <td>1</td>\n",
              "      <td>37.642000</td>\n",
              "      <td>56039.49793</td>\n",
              "      <td>12301.456790</td>\n",
              "      <td>360419.0988</td>\n",
              "      <td>31491.41457</td>\n",
              "    </tr>\n",
              "    <tr>\n",
              "      <th>497</th>\n",
              "      <td>Pearl</td>\n",
              "      <td>penatibus.et@massanonante.com</td>\n",
              "      <td>Philippines</td>\n",
              "      <td>1</td>\n",
              "      <td>53.943497</td>\n",
              "      <td>68888.77805</td>\n",
              "      <td>10611.606860</td>\n",
              "      <td>764531.3203</td>\n",
              "      <td>64147.28888</td>\n",
              "    </tr>\n",
              "    <tr>\n",
              "      <th>498</th>\n",
              "      <td>Nell</td>\n",
              "      <td>Quisque.varius@arcuVivamussit.net</td>\n",
              "      <td>Botswana</td>\n",
              "      <td>1</td>\n",
              "      <td>59.160509</td>\n",
              "      <td>49811.99062</td>\n",
              "      <td>14013.034510</td>\n",
              "      <td>337826.6382</td>\n",
              "      <td>45442.15353</td>\n",
              "    </tr>\n",
              "    <tr>\n",
              "      <th>499</th>\n",
              "      <td>Marla</td>\n",
              "      <td>Camaron.marla@hotmail.com</td>\n",
              "      <td>marlal</td>\n",
              "      <td>1</td>\n",
              "      <td>46.731152</td>\n",
              "      <td>61370.67766</td>\n",
              "      <td>9391.341628</td>\n",
              "      <td>462946.4924</td>\n",
              "      <td>45107.22566</td>\n",
              "    </tr>\n",
              "  </tbody>\n",
              "</table>\n",
              "<p>500 rows × 9 columns</p>\n",
              "</div>"
            ],
            "text/plain": [
              "       Customer Name  ... Car Purchase Amount\n",
              "0      Martina Avila  ...         35321.45877\n",
              "1      Harlan Barnes  ...         45115.52566\n",
              "2    Naomi Rodriquez  ...         42925.70921\n",
              "3    Jade Cunningham  ...         67422.36313\n",
              "4       Cedric Leach  ...         55915.46248\n",
              "..               ...  ...                 ...\n",
              "495           Walter  ...         48901.44342\n",
              "496            Vanna  ...         31491.41457\n",
              "497            Pearl  ...         64147.28888\n",
              "498             Nell  ...         45442.15353\n",
              "499            Marla  ...         45107.22566\n",
              "\n",
              "[500 rows x 9 columns]"
            ]
          },
          "metadata": {
            "tags": []
          },
          "execution_count": 546
        }
      ]
    },
    {
      "cell_type": "code",
      "metadata": {
        "id": "SbQHaZJr4Rru",
        "colab_type": "code",
        "colab": {
          "base_uri": "https://localhost:8080/",
          "height": 300
        },
        "outputId": "bb650131-adee-4bb8-8475-f1c88447eb7d"
      },
      "source": [
        "data.describe()"
      ],
      "execution_count": 547,
      "outputs": [
        {
          "output_type": "execute_result",
          "data": {
            "text/html": [
              "<div>\n",
              "<style scoped>\n",
              "    .dataframe tbody tr th:only-of-type {\n",
              "        vertical-align: middle;\n",
              "    }\n",
              "\n",
              "    .dataframe tbody tr th {\n",
              "        vertical-align: top;\n",
              "    }\n",
              "\n",
              "    .dataframe thead th {\n",
              "        text-align: right;\n",
              "    }\n",
              "</style>\n",
              "<table border=\"1\" class=\"dataframe\">\n",
              "  <thead>\n",
              "    <tr style=\"text-align: right;\">\n",
              "      <th></th>\n",
              "      <th>Gender</th>\n",
              "      <th>Age</th>\n",
              "      <th>Annual Salary</th>\n",
              "      <th>Credit Card Debt</th>\n",
              "      <th>Net Worth</th>\n",
              "      <th>Car Purchase Amount</th>\n",
              "    </tr>\n",
              "  </thead>\n",
              "  <tbody>\n",
              "    <tr>\n",
              "      <th>count</th>\n",
              "      <td>500.000000</td>\n",
              "      <td>500.000000</td>\n",
              "      <td>500.000000</td>\n",
              "      <td>500.000000</td>\n",
              "      <td>500.000000</td>\n",
              "      <td>500.000000</td>\n",
              "    </tr>\n",
              "    <tr>\n",
              "      <th>mean</th>\n",
              "      <td>0.506000</td>\n",
              "      <td>46.241674</td>\n",
              "      <td>62127.239608</td>\n",
              "      <td>9607.645049</td>\n",
              "      <td>431475.713625</td>\n",
              "      <td>44209.799218</td>\n",
              "    </tr>\n",
              "    <tr>\n",
              "      <th>std</th>\n",
              "      <td>0.500465</td>\n",
              "      <td>7.978862</td>\n",
              "      <td>11703.378228</td>\n",
              "      <td>3489.187973</td>\n",
              "      <td>173536.756340</td>\n",
              "      <td>10773.178744</td>\n",
              "    </tr>\n",
              "    <tr>\n",
              "      <th>min</th>\n",
              "      <td>0.000000</td>\n",
              "      <td>20.000000</td>\n",
              "      <td>20000.000000</td>\n",
              "      <td>100.000000</td>\n",
              "      <td>20000.000000</td>\n",
              "      <td>9000.000000</td>\n",
              "    </tr>\n",
              "    <tr>\n",
              "      <th>25%</th>\n",
              "      <td>0.000000</td>\n",
              "      <td>40.949969</td>\n",
              "      <td>54391.977195</td>\n",
              "      <td>7397.515792</td>\n",
              "      <td>299824.195900</td>\n",
              "      <td>37629.896040</td>\n",
              "    </tr>\n",
              "    <tr>\n",
              "      <th>50%</th>\n",
              "      <td>1.000000</td>\n",
              "      <td>46.049901</td>\n",
              "      <td>62915.497035</td>\n",
              "      <td>9655.035568</td>\n",
              "      <td>426750.120650</td>\n",
              "      <td>43997.783390</td>\n",
              "    </tr>\n",
              "    <tr>\n",
              "      <th>75%</th>\n",
              "      <td>1.000000</td>\n",
              "      <td>51.612263</td>\n",
              "      <td>70117.862005</td>\n",
              "      <td>11798.867487</td>\n",
              "      <td>557324.478725</td>\n",
              "      <td>51254.709517</td>\n",
              "    </tr>\n",
              "    <tr>\n",
              "      <th>max</th>\n",
              "      <td>1.000000</td>\n",
              "      <td>70.000000</td>\n",
              "      <td>100000.000000</td>\n",
              "      <td>20000.000000</td>\n",
              "      <td>1000000.000000</td>\n",
              "      <td>80000.000000</td>\n",
              "    </tr>\n",
              "  </tbody>\n",
              "</table>\n",
              "</div>"
            ],
            "text/plain": [
              "           Gender         Age  ...       Net Worth  Car Purchase Amount\n",
              "count  500.000000  500.000000  ...      500.000000           500.000000\n",
              "mean     0.506000   46.241674  ...   431475.713625         44209.799218\n",
              "std      0.500465    7.978862  ...   173536.756340         10773.178744\n",
              "min      0.000000   20.000000  ...    20000.000000          9000.000000\n",
              "25%      0.000000   40.949969  ...   299824.195900         37629.896040\n",
              "50%      1.000000   46.049901  ...   426750.120650         43997.783390\n",
              "75%      1.000000   51.612263  ...   557324.478725         51254.709517\n",
              "max      1.000000   70.000000  ...  1000000.000000         80000.000000\n",
              "\n",
              "[8 rows x 6 columns]"
            ]
          },
          "metadata": {
            "tags": []
          },
          "execution_count": 547
        }
      ]
    },
    {
      "cell_type": "code",
      "metadata": {
        "id": "eFkuX-xJLYfm",
        "colab_type": "code",
        "colab": {
          "base_uri": "https://localhost:8080/",
          "height": 92
        },
        "outputId": "02a0c4ae-a641-4f66-c8c7-01bf07489b9d"
      },
      "source": [
        "data.columns\n"
      ],
      "execution_count": 548,
      "outputs": [
        {
          "output_type": "execute_result",
          "data": {
            "text/plain": [
              "Index(['Customer Name', 'Customer e-mail', 'Country', 'Gender', 'Age',\n",
              "       'Annual Salary', 'Credit Card Debt', 'Net Worth',\n",
              "       'Car Purchase Amount'],\n",
              "      dtype='object')"
            ]
          },
          "metadata": {
            "tags": []
          },
          "execution_count": 548
        }
      ]
    },
    {
      "cell_type": "code",
      "metadata": {
        "id": "ynB-hha7Nh8W",
        "colab_type": "code",
        "colab": {
          "base_uri": "https://localhost:8080/",
          "height": 423
        },
        "outputId": "72e67980-cb5c-4f1e-a066-e6d5399ce773"
      },
      "source": [
        "col=['Country', 'Gender', 'Age',\n",
        "       'Annual Salary', 'Credit Card Debt', 'Net Worth']\n",
        "x_data = data[col]\n",
        "y_data = data['Car Purchase Amount']\n",
        "x_data\n"
      ],
      "execution_count": 549,
      "outputs": [
        {
          "output_type": "execute_result",
          "data": {
            "text/html": [
              "<div>\n",
              "<style scoped>\n",
              "    .dataframe tbody tr th:only-of-type {\n",
              "        vertical-align: middle;\n",
              "    }\n",
              "\n",
              "    .dataframe tbody tr th {\n",
              "        vertical-align: top;\n",
              "    }\n",
              "\n",
              "    .dataframe thead th {\n",
              "        text-align: right;\n",
              "    }\n",
              "</style>\n",
              "<table border=\"1\" class=\"dataframe\">\n",
              "  <thead>\n",
              "    <tr style=\"text-align: right;\">\n",
              "      <th></th>\n",
              "      <th>Country</th>\n",
              "      <th>Gender</th>\n",
              "      <th>Age</th>\n",
              "      <th>Annual Salary</th>\n",
              "      <th>Credit Card Debt</th>\n",
              "      <th>Net Worth</th>\n",
              "    </tr>\n",
              "  </thead>\n",
              "  <tbody>\n",
              "    <tr>\n",
              "      <th>0</th>\n",
              "      <td>Bulgaria</td>\n",
              "      <td>0</td>\n",
              "      <td>41.851720</td>\n",
              "      <td>62812.09301</td>\n",
              "      <td>11609.380910</td>\n",
              "      <td>238961.2505</td>\n",
              "    </tr>\n",
              "    <tr>\n",
              "      <th>1</th>\n",
              "      <td>Belize</td>\n",
              "      <td>0</td>\n",
              "      <td>40.870623</td>\n",
              "      <td>66646.89292</td>\n",
              "      <td>9572.957136</td>\n",
              "      <td>530973.9078</td>\n",
              "    </tr>\n",
              "    <tr>\n",
              "      <th>2</th>\n",
              "      <td>Algeria</td>\n",
              "      <td>1</td>\n",
              "      <td>43.152897</td>\n",
              "      <td>53798.55112</td>\n",
              "      <td>11160.355060</td>\n",
              "      <td>638467.1773</td>\n",
              "    </tr>\n",
              "    <tr>\n",
              "      <th>3</th>\n",
              "      <td>Cook Islands</td>\n",
              "      <td>1</td>\n",
              "      <td>58.271369</td>\n",
              "      <td>79370.03798</td>\n",
              "      <td>14426.164850</td>\n",
              "      <td>548599.0524</td>\n",
              "    </tr>\n",
              "    <tr>\n",
              "      <th>4</th>\n",
              "      <td>Brazil</td>\n",
              "      <td>1</td>\n",
              "      <td>57.313749</td>\n",
              "      <td>59729.15130</td>\n",
              "      <td>5358.712177</td>\n",
              "      <td>560304.0671</td>\n",
              "    </tr>\n",
              "    <tr>\n",
              "      <th>...</th>\n",
              "      <td>...</td>\n",
              "      <td>...</td>\n",
              "      <td>...</td>\n",
              "      <td>...</td>\n",
              "      <td>...</td>\n",
              "      <td>...</td>\n",
              "    </tr>\n",
              "    <tr>\n",
              "      <th>495</th>\n",
              "      <td>Nepal</td>\n",
              "      <td>0</td>\n",
              "      <td>41.462515</td>\n",
              "      <td>71942.40291</td>\n",
              "      <td>6995.902524</td>\n",
              "      <td>541670.1016</td>\n",
              "    </tr>\n",
              "    <tr>\n",
              "      <th>496</th>\n",
              "      <td>Zimbabwe</td>\n",
              "      <td>1</td>\n",
              "      <td>37.642000</td>\n",
              "      <td>56039.49793</td>\n",
              "      <td>12301.456790</td>\n",
              "      <td>360419.0988</td>\n",
              "    </tr>\n",
              "    <tr>\n",
              "      <th>497</th>\n",
              "      <td>Philippines</td>\n",
              "      <td>1</td>\n",
              "      <td>53.943497</td>\n",
              "      <td>68888.77805</td>\n",
              "      <td>10611.606860</td>\n",
              "      <td>764531.3203</td>\n",
              "    </tr>\n",
              "    <tr>\n",
              "      <th>498</th>\n",
              "      <td>Botswana</td>\n",
              "      <td>1</td>\n",
              "      <td>59.160509</td>\n",
              "      <td>49811.99062</td>\n",
              "      <td>14013.034510</td>\n",
              "      <td>337826.6382</td>\n",
              "    </tr>\n",
              "    <tr>\n",
              "      <th>499</th>\n",
              "      <td>marlal</td>\n",
              "      <td>1</td>\n",
              "      <td>46.731152</td>\n",
              "      <td>61370.67766</td>\n",
              "      <td>9391.341628</td>\n",
              "      <td>462946.4924</td>\n",
              "    </tr>\n",
              "  </tbody>\n",
              "</table>\n",
              "<p>500 rows × 6 columns</p>\n",
              "</div>"
            ],
            "text/plain": [
              "          Country  Gender  ...  Credit Card Debt    Net Worth\n",
              "0        Bulgaria       0  ...      11609.380910  238961.2505\n",
              "1          Belize       0  ...       9572.957136  530973.9078\n",
              "2         Algeria       1  ...      11160.355060  638467.1773\n",
              "3    Cook Islands       1  ...      14426.164850  548599.0524\n",
              "4          Brazil       1  ...       5358.712177  560304.0671\n",
              "..            ...     ...  ...               ...          ...\n",
              "495         Nepal       0  ...       6995.902524  541670.1016\n",
              "496      Zimbabwe       1  ...      12301.456790  360419.0988\n",
              "497   Philippines       1  ...      10611.606860  764531.3203\n",
              "498      Botswana       1  ...      14013.034510  337826.6382\n",
              "499        marlal       1  ...       9391.341628  462946.4924\n",
              "\n",
              "[500 rows x 6 columns]"
            ]
          },
          "metadata": {
            "tags": []
          },
          "execution_count": 549
        }
      ]
    },
    {
      "cell_type": "code",
      "metadata": {
        "id": "uka0mVopP1Ks",
        "colab_type": "code",
        "colab": {
          "base_uri": "https://localhost:8080/",
          "height": 241
        },
        "outputId": "8122695d-4794-4f49-91d1-b22463a8f146"
      },
      "source": [
        "y_data"
      ],
      "execution_count": 550,
      "outputs": [
        {
          "output_type": "execute_result",
          "data": {
            "text/plain": [
              "0      35321.45877\n",
              "1      45115.52566\n",
              "2      42925.70921\n",
              "3      67422.36313\n",
              "4      55915.46248\n",
              "          ...     \n",
              "495    48901.44342\n",
              "496    31491.41457\n",
              "497    64147.28888\n",
              "498    45442.15353\n",
              "499    45107.22566\n",
              "Name: Car Purchase Amount, Length: 500, dtype: float64"
            ]
          },
          "metadata": {
            "tags": []
          },
          "execution_count": 550
        }
      ]
    },
    {
      "cell_type": "code",
      "metadata": {
        "id": "IVnTNWRTQZQW",
        "colab_type": "code",
        "colab": {
          "base_uri": "https://localhost:8080/",
          "height": 241
        },
        "outputId": "f5240629-f751-4808-d889-0e4f7caa392f"
      },
      "source": [
        "x_data.iloc[:,0]"
      ],
      "execution_count": 551,
      "outputs": [
        {
          "output_type": "execute_result",
          "data": {
            "text/plain": [
              "0          Bulgaria\n",
              "1            Belize\n",
              "2           Algeria\n",
              "3      Cook Islands\n",
              "4            Brazil\n",
              "           ...     \n",
              "495           Nepal\n",
              "496        Zimbabwe\n",
              "497     Philippines\n",
              "498        Botswana\n",
              "499          marlal\n",
              "Name: Country, Length: 500, dtype: object"
            ]
          },
          "metadata": {
            "tags": []
          },
          "execution_count": 551
        }
      ]
    },
    {
      "cell_type": "code",
      "metadata": {
        "id": "cPspllG3P9OF",
        "colab_type": "code",
        "colab": {
          "base_uri": "https://localhost:8080/",
          "height": 556
        },
        "outputId": "459bc051-5692-462e-fbee-f87c471a998e"
      },
      "source": [
        "from sklearn.preprocessing import LabelEncoder\n",
        "le = LabelEncoder()\n",
        "x_data.iloc[:,0] = le.fit_transform(x_data.iloc[:,0])\n",
        "x_data\n"
      ],
      "execution_count": 552,
      "outputs": [
        {
          "output_type": "stream",
          "text": [
            "/usr/local/lib/python3.6/dist-packages/pandas/core/indexing.py:966: SettingWithCopyWarning: \n",
            "A value is trying to be set on a copy of a slice from a DataFrame.\n",
            "Try using .loc[row_indexer,col_indexer] = value instead\n",
            "\n",
            "See the caveats in the documentation: https://pandas.pydata.org/pandas-docs/stable/user_guide/indexing.html#returning-a-view-versus-a-copy\n",
            "  self.obj[item] = s\n"
          ],
          "name": "stderr"
        },
        {
          "output_type": "execute_result",
          "data": {
            "text/html": [
              "<div>\n",
              "<style scoped>\n",
              "    .dataframe tbody tr th:only-of-type {\n",
              "        vertical-align: middle;\n",
              "    }\n",
              "\n",
              "    .dataframe tbody tr th {\n",
              "        vertical-align: top;\n",
              "    }\n",
              "\n",
              "    .dataframe thead th {\n",
              "        text-align: right;\n",
              "    }\n",
              "</style>\n",
              "<table border=\"1\" class=\"dataframe\">\n",
              "  <thead>\n",
              "    <tr style=\"text-align: right;\">\n",
              "      <th></th>\n",
              "      <th>Country</th>\n",
              "      <th>Gender</th>\n",
              "      <th>Age</th>\n",
              "      <th>Annual Salary</th>\n",
              "      <th>Credit Card Debt</th>\n",
              "      <th>Net Worth</th>\n",
              "    </tr>\n",
              "  </thead>\n",
              "  <tbody>\n",
              "    <tr>\n",
              "      <th>0</th>\n",
              "      <td>27</td>\n",
              "      <td>0</td>\n",
              "      <td>41.851720</td>\n",
              "      <td>62812.09301</td>\n",
              "      <td>11609.380910</td>\n",
              "      <td>238961.2505</td>\n",
              "    </tr>\n",
              "    <tr>\n",
              "      <th>1</th>\n",
              "      <td>17</td>\n",
              "      <td>0</td>\n",
              "      <td>40.870623</td>\n",
              "      <td>66646.89292</td>\n",
              "      <td>9572.957136</td>\n",
              "      <td>530973.9078</td>\n",
              "    </tr>\n",
              "    <tr>\n",
              "      <th>2</th>\n",
              "      <td>1</td>\n",
              "      <td>1</td>\n",
              "      <td>43.152897</td>\n",
              "      <td>53798.55112</td>\n",
              "      <td>11160.355060</td>\n",
              "      <td>638467.1773</td>\n",
              "    </tr>\n",
              "    <tr>\n",
              "      <th>3</th>\n",
              "      <td>41</td>\n",
              "      <td>1</td>\n",
              "      <td>58.271369</td>\n",
              "      <td>79370.03798</td>\n",
              "      <td>14426.164850</td>\n",
              "      <td>548599.0524</td>\n",
              "    </tr>\n",
              "    <tr>\n",
              "      <th>4</th>\n",
              "      <td>26</td>\n",
              "      <td>1</td>\n",
              "      <td>57.313749</td>\n",
              "      <td>59729.15130</td>\n",
              "      <td>5358.712177</td>\n",
              "      <td>560304.0671</td>\n",
              "    </tr>\n",
              "    <tr>\n",
              "      <th>...</th>\n",
              "      <td>...</td>\n",
              "      <td>...</td>\n",
              "      <td>...</td>\n",
              "      <td>...</td>\n",
              "      <td>...</td>\n",
              "      <td>...</td>\n",
              "    </tr>\n",
              "    <tr>\n",
              "      <th>495</th>\n",
              "      <td>128</td>\n",
              "      <td>0</td>\n",
              "      <td>41.462515</td>\n",
              "      <td>71942.40291</td>\n",
              "      <td>6995.902524</td>\n",
              "      <td>541670.1016</td>\n",
              "    </tr>\n",
              "    <tr>\n",
              "      <th>496</th>\n",
              "      <td>208</td>\n",
              "      <td>1</td>\n",
              "      <td>37.642000</td>\n",
              "      <td>56039.49793</td>\n",
              "      <td>12301.456790</td>\n",
              "      <td>360419.0988</td>\n",
              "    </tr>\n",
              "    <tr>\n",
              "      <th>497</th>\n",
              "      <td>144</td>\n",
              "      <td>1</td>\n",
              "      <td>53.943497</td>\n",
              "      <td>68888.77805</td>\n",
              "      <td>10611.606860</td>\n",
              "      <td>764531.3203</td>\n",
              "    </tr>\n",
              "    <tr>\n",
              "      <th>498</th>\n",
              "      <td>24</td>\n",
              "      <td>1</td>\n",
              "      <td>59.160509</td>\n",
              "      <td>49811.99062</td>\n",
              "      <td>14013.034510</td>\n",
              "      <td>337826.6382</td>\n",
              "    </tr>\n",
              "    <tr>\n",
              "      <th>499</th>\n",
              "      <td>209</td>\n",
              "      <td>1</td>\n",
              "      <td>46.731152</td>\n",
              "      <td>61370.67766</td>\n",
              "      <td>9391.341628</td>\n",
              "      <td>462946.4924</td>\n",
              "    </tr>\n",
              "  </tbody>\n",
              "</table>\n",
              "<p>500 rows × 6 columns</p>\n",
              "</div>"
            ],
            "text/plain": [
              "     Country  Gender        Age  Annual Salary  Credit Card Debt    Net Worth\n",
              "0         27       0  41.851720    62812.09301      11609.380910  238961.2505\n",
              "1         17       0  40.870623    66646.89292       9572.957136  530973.9078\n",
              "2          1       1  43.152897    53798.55112      11160.355060  638467.1773\n",
              "3         41       1  58.271369    79370.03798      14426.164850  548599.0524\n",
              "4         26       1  57.313749    59729.15130       5358.712177  560304.0671\n",
              "..       ...     ...        ...            ...               ...          ...\n",
              "495      128       0  41.462515    71942.40291       6995.902524  541670.1016\n",
              "496      208       1  37.642000    56039.49793      12301.456790  360419.0988\n",
              "497      144       1  53.943497    68888.77805      10611.606860  764531.3203\n",
              "498       24       1  59.160509    49811.99062      14013.034510  337826.6382\n",
              "499      209       1  46.731152    61370.67766       9391.341628  462946.4924\n",
              "\n",
              "[500 rows x 6 columns]"
            ]
          },
          "metadata": {
            "tags": []
          },
          "execution_count": 552
        }
      ]
    },
    {
      "cell_type": "code",
      "metadata": {
        "id": "OWDC8VNM3D5G",
        "colab_type": "code",
        "colab": {
          "base_uri": "https://localhost:8080/",
          "height": 362
        },
        "outputId": "31d28ac0-2c44-4e8a-f4c4-5fda43450f90"
      },
      "source": [
        "sns.heatmap(x_data.corr(),annot=True)"
      ],
      "execution_count": 553,
      "outputs": [
        {
          "output_type": "execute_result",
          "data": {
            "text/plain": [
              "<matplotlib.axes._subplots.AxesSubplot at 0x7f8c19398320>"
            ]
          },
          "metadata": {
            "tags": []
          },
          "execution_count": 553
        },
        {
          "output_type": "display_data",
          "data": {
            "image/png": "[encoded data removed]",
            "text/plain": [
              "<Figure size 432x288 with 2 Axes>"
            ]
          },
          "metadata": {
            "tags": [],
            "needs_background": "light"
          }
        }
      ]
    },
    {
      "cell_type": "code",
      "metadata": {
        "id": "ChqBUcnHSQsN",
        "colab_type": "code",
        "colab": {
          "base_uri": "https://localhost:8080/",
          "height": 423
        },
        "outputId": "4a80b464-2b6e-4e5d-e0f2-ff2de17ac9dc"
      },
      "source": [
        "from sklearn import preprocessing\n",
        "min_max_scaler = preprocessing.MinMaxScaler()\n",
        "x_scale = pd.DataFrame(min_max_scaler.fit_transform(x_data))\n",
        "x_scale.columns=col\n",
        "x_scale"
      ],
      "execution_count": 554,
      "outputs": [
        {
          "output_type": "execute_result",
          "data": {
            "text/html": [
              "<div>\n",
              "<style scoped>\n",
              "    .dataframe tbody tr th:only-of-type {\n",
              "        vertical-align: middle;\n",
              "    }\n",
              "\n",
              "    .dataframe tbody tr th {\n",
              "        vertical-align: top;\n",
              "    }\n",
              "\n",
              "    .dataframe thead th {\n",
              "        text-align: right;\n",
              "    }\n",
              "</style>\n",
              "<table border=\"1\" class=\"dataframe\">\n",
              "  <thead>\n",
              "    <tr style=\"text-align: right;\">\n",
              "      <th></th>\n",
              "      <th>Country</th>\n",
              "      <th>Gender</th>\n",
              "      <th>Age</th>\n",
              "      <th>Annual Salary</th>\n",
              "      <th>Credit Card Debt</th>\n",
              "      <th>Net Worth</th>\n",
              "    </tr>\n",
              "  </thead>\n",
              "  <tbody>\n",
              "    <tr>\n",
              "      <th>0</th>\n",
              "      <td>0.128571</td>\n",
              "      <td>0.0</td>\n",
              "      <td>0.437034</td>\n",
              "      <td>0.535151</td>\n",
              "      <td>0.578361</td>\n",
              "      <td>0.223430</td>\n",
              "    </tr>\n",
              "    <tr>\n",
              "      <th>1</th>\n",
              "      <td>0.080952</td>\n",
              "      <td>0.0</td>\n",
              "      <td>0.417412</td>\n",
              "      <td>0.583086</td>\n",
              "      <td>0.476028</td>\n",
              "      <td>0.521402</td>\n",
              "    </tr>\n",
              "    <tr>\n",
              "      <th>2</th>\n",
              "      <td>0.004762</td>\n",
              "      <td>1.0</td>\n",
              "      <td>0.463058</td>\n",
              "      <td>0.422482</td>\n",
              "      <td>0.555797</td>\n",
              "      <td>0.631089</td>\n",
              "    </tr>\n",
              "    <tr>\n",
              "      <th>3</th>\n",
              "      <td>0.195238</td>\n",
              "      <td>1.0</td>\n",
              "      <td>0.765427</td>\n",
              "      <td>0.742125</td>\n",
              "      <td>0.719908</td>\n",
              "      <td>0.539387</td>\n",
              "    </tr>\n",
              "    <tr>\n",
              "      <th>4</th>\n",
              "      <td>0.123810</td>\n",
              "      <td>1.0</td>\n",
              "      <td>0.746275</td>\n",
              "      <td>0.496614</td>\n",
              "      <td>0.264257</td>\n",
              "      <td>0.551331</td>\n",
              "    </tr>\n",
              "    <tr>\n",
              "      <th>...</th>\n",
              "      <td>...</td>\n",
              "      <td>...</td>\n",
              "      <td>...</td>\n",
              "      <td>...</td>\n",
              "      <td>...</td>\n",
              "      <td>...</td>\n",
              "    </tr>\n",
              "    <tr>\n",
              "      <th>495</th>\n",
              "      <td>0.609524</td>\n",
              "      <td>0.0</td>\n",
              "      <td>0.429250</td>\n",
              "      <td>0.649280</td>\n",
              "      <td>0.346528</td>\n",
              "      <td>0.532316</td>\n",
              "    </tr>\n",
              "    <tr>\n",
              "      <th>496</th>\n",
              "      <td>0.990476</td>\n",
              "      <td>1.0</td>\n",
              "      <td>0.352840</td>\n",
              "      <td>0.450494</td>\n",
              "      <td>0.613139</td>\n",
              "      <td>0.347366</td>\n",
              "    </tr>\n",
              "    <tr>\n",
              "      <th>497</th>\n",
              "      <td>0.685714</td>\n",
              "      <td>1.0</td>\n",
              "      <td>0.678870</td>\n",
              "      <td>0.611110</td>\n",
              "      <td>0.528221</td>\n",
              "      <td>0.759726</td>\n",
              "    </tr>\n",
              "    <tr>\n",
              "      <th>498</th>\n",
              "      <td>0.114286</td>\n",
              "      <td>1.0</td>\n",
              "      <td>0.783210</td>\n",
              "      <td>0.372650</td>\n",
              "      <td>0.699147</td>\n",
              "      <td>0.324313</td>\n",
              "    </tr>\n",
              "    <tr>\n",
              "      <th>499</th>\n",
              "      <td>0.995238</td>\n",
              "      <td>1.0</td>\n",
              "      <td>0.534623</td>\n",
              "      <td>0.517133</td>\n",
              "      <td>0.466902</td>\n",
              "      <td>0.451986</td>\n",
              "    </tr>\n",
              "  </tbody>\n",
              "</table>\n",
              "<p>500 rows × 6 columns</p>\n",
              "</div>"
            ],
            "text/plain": [
              "      Country  Gender       Age  Annual Salary  Credit Card Debt  Net Worth\n",
              "0    0.128571     0.0  0.437034       0.535151          0.578361   0.223430\n",
              "1    0.080952     0.0  0.417412       0.583086          0.476028   0.521402\n",
              "2    0.004762     1.0  0.463058       0.422482          0.555797   0.631089\n",
              "3    0.195238     1.0  0.765427       0.742125          0.719908   0.539387\n",
              "4    0.123810     1.0  0.746275       0.496614          0.264257   0.551331\n",
              "..        ...     ...       ...            ...               ...        ...\n",
              "495  0.609524     0.0  0.429250       0.649280          0.346528   0.532316\n",
              "496  0.990476     1.0  0.352840       0.450494          0.613139   0.347366\n",
              "497  0.685714     1.0  0.678870       0.611110          0.528221   0.759726\n",
              "498  0.114286     1.0  0.783210       0.372650          0.699147   0.324313\n",
              "499  0.995238     1.0  0.534623       0.517133          0.466902   0.451986\n",
              "\n",
              "[500 rows x 6 columns]"
            ]
          },
          "metadata": {
            "tags": []
          },
          "execution_count": 554
        }
      ]
    },
    {
      "cell_type": "code",
      "metadata": {
        "id": "1-3RaN6KYJRd",
        "colab_type": "code",
        "colab": {
          "base_uri": "https://localhost:8080/",
          "height": 241
        },
        "outputId": "e56265b2-7b40-4b08-c34a-3f87c9029e33"
      },
      "source": [
        "y_scale=(y_data-min(y_data))/(max(y_data)-min(y_data))\n",
        "y_scale"
      ],
      "execution_count": 555,
      "outputs": [
        {
          "output_type": "execute_result",
          "data": {
            "text/plain": [
              "0      0.370725\n",
              "1      0.508669\n",
              "2      0.477827\n",
              "3      0.822850\n",
              "4      0.660781\n",
              "         ...   \n",
              "495    0.561992\n",
              "496    0.316780\n",
              "497    0.776722\n",
              "498    0.513270\n",
              "499    0.508552\n",
              "Name: Car Purchase Amount, Length: 500, dtype: float64"
            ]
          },
          "metadata": {
            "tags": []
          },
          "execution_count": 555
        }
      ]
    },
    {
      "cell_type": "markdown",
      "metadata": {
        "id": "y8VsnM8ohfvw",
        "colab_type": "text"
      },
      "source": [
        "Random Forest Regression\n"
      ]
    },
    {
      "cell_type": "code",
      "metadata": {
        "id": "nelpuyfHT2xx",
        "colab_type": "code",
        "colab": {}
      },
      "source": [
        "from sklearn.model_selection import train_test_split\n",
        "x_train, x_test, y_train, y_test = train_test_split(x_scale, y_scale, test_size = 0.2, random_state = 0)"
      ],
      "execution_count": 556,
      "outputs": []
    },
    {
      "cell_type": "code",
      "metadata": {
        "id": "C9zDMkGjU08k",
        "colab_type": "code",
        "colab": {}
      },
      "source": [
        "from sklearn.ensemble import RandomForestRegressor"
      ],
      "execution_count": 557,
      "outputs": []
    },
    {
      "cell_type": "code",
      "metadata": {
        "id": "l_43jK2KViRw",
        "colab_type": "code",
        "colab": {}
      },
      "source": [
        "randomForestFinalModel = RandomForestRegressor(max_depth = 7,max_leaf_nodes=30, max_features = 'auto', n_estimators = 100)\n"
      ],
      "execution_count": 558,
      "outputs": []
    },
    {
      "cell_type": "code",
      "metadata": {
        "id": "5T7zLKbKVp_4",
        "colab_type": "code",
        "colab": {
          "base_uri": "https://localhost:8080/",
          "height": 148
        },
        "outputId": "9d705d06-f2f3-4b6b-b707-ba300f6c6c40"
      },
      "source": [
        "randomForestFinalModel.fit(x_train, y_train)\n"
      ],
      "execution_count": 559,
      "outputs": [
        {
          "output_type": "execute_result",
          "data": {
            "text/plain": [
              "RandomForestRegressor(bootstrap=True, ccp_alpha=0.0, criterion='mse',\n",
              "                      max_depth=7, max_features='auto', max_leaf_nodes=30,\n",
              "                      max_samples=None, min_impurity_decrease=0.0,\n",
              "                      min_impurity_split=None, min_samples_leaf=1,\n",
              "                      min_samples_split=2, min_weight_fraction_leaf=0.0,\n",
              "                      n_estimators=100, n_jobs=None, oob_score=False,\n",
              "                      random_state=None, verbose=0, warm_start=False)"
            ]
          },
          "metadata": {
            "tags": []
          },
          "execution_count": 559
        }
      ]
    },
    {
      "cell_type": "code",
      "metadata": {
        "id": "rau5fx_bXcaB",
        "colab_type": "code",
        "colab": {
          "base_uri": "https://localhost:8080/",
          "height": 391
        },
        "outputId": "92091353-550d-48cb-a48b-8c57f33562c6"
      },
      "source": [
        "pred = randomForestFinalModel.predict(x_test)\n",
        "pred\n"
      ],
      "execution_count": 560,
      "outputs": [
        {
          "output_type": "execute_result",
          "data": {
            "text/plain": [
              "array([0.45713688, 0.47125853, 0.32996078, 0.60663987, 0.43435946,\n",
              "       0.6003596 , 0.64943138, 0.73355834, 0.49237873, 0.33767086,\n",
              "       0.52638368, 0.6190674 , 0.57234162, 0.73195948, 0.37912119,\n",
              "       0.34862865, 0.52707321, 0.63681299, 0.46015972, 0.17160673,\n",
              "       0.56042689, 0.39662077, 0.53619239, 0.33803483, 0.79406133,\n",
              "       0.46699531, 0.5028804 , 0.55810345, 0.65996557, 0.71962468,\n",
              "       0.4792619 , 0.39513875, 0.6406731 , 0.49125055, 0.77775692,\n",
              "       0.69343742, 0.41228622, 0.75843611, 0.47407355, 0.52062295,\n",
              "       0.61657406, 0.33839904, 0.3753934 , 0.42400685, 0.47183485,\n",
              "       0.50794355, 0.53315843, 0.64255044, 0.43132413, 0.40661601,\n",
              "       0.39081345, 0.44398105, 0.55617868, 0.61775853, 0.44906399,\n",
              "       0.3591912 , 0.52813938, 0.65134501, 0.49700642, 0.60771093,\n",
              "       0.42666746, 0.55212111, 0.44721104, 0.51317567, 0.48186075,\n",
              "       0.58704016, 0.69859175, 0.27179505, 0.41637017, 0.57641627,\n",
              "       0.53946975, 0.57214755, 0.24702454, 0.63180902, 0.52734022,\n",
              "       0.30304107, 0.57439062, 0.70910588, 0.6290771 , 0.32788208,\n",
              "       0.71395179, 0.53695751, 0.67117898, 0.45610621, 0.3579081 ,\n",
              "       0.38910392, 0.56212098, 0.39913172, 0.54761047, 0.40628902,\n",
              "       0.66587635, 0.39483207, 0.41889211, 0.36460681, 0.34922814,\n",
              "       0.43360372, 0.52261666, 0.46108692, 0.3322407 , 0.35929624])"
            ]
          },
          "metadata": {
            "tags": []
          },
          "execution_count": 560
        }
      ]
    },
    {
      "cell_type": "code",
      "metadata": {
        "id": "b8vd_9G5v5-S",
        "colab_type": "code",
        "colab": {
          "base_uri": "https://localhost:8080/",
          "height": 36
        },
        "outputId": "7b952ea7-8d9f-4018-a2b1-cb67be495163"
      },
      "source": [
        "from sklearn.metrics import mean_absolute_error \n",
        "mae= mean_absolute_error(y_test,pred)\n",
        "mae"
      ],
      "execution_count": 561,
      "outputs": [
        {
          "output_type": "execute_result",
          "data": {
            "text/plain": [
              "0.03455441902876053"
            ]
          },
          "metadata": {
            "tags": []
          },
          "execution_count": 561
        }
      ]
    },
    {
      "cell_type": "code",
      "metadata": {
        "id": "xmA6IfDWc6wW",
        "colab_type": "code",
        "colab": {
          "base_uri": "https://localhost:8080/",
          "height": 36
        },
        "outputId": "5fbb9cc1-df18-44e2-d097-030758f4cfca"
      },
      "source": [
        "randomForestFinalModel.score(x_test, y_test)"
      ],
      "execution_count": 562,
      "outputs": [
        {
          "output_type": "execute_result",
          "data": {
            "text/plain": [
              "0.9113019928441789"
            ]
          },
          "metadata": {
            "tags": []
          },
          "execution_count": 562
        }
      ]
    },
    {
      "cell_type": "markdown",
      "metadata": {
        "id": "JU9pn6Wihmg1",
        "colab_type": "text"
      },
      "source": [
        "Artificial Neural Network\n"
      ]
    },
    {
      "cell_type": "code",
      "metadata": {
        "id": "UqF47BaSdD0p",
        "colab_type": "code",
        "colab": {}
      },
      "source": [
        "ann = tf.keras.models.Sequential()\n",
        "\n",
        "# Adding the input layer and the first hidden layer\n",
        "ann.add(tf.keras.layers.Dense(units=4, kernel_initializer='normal',activation='relu',input_dim=6))\n",
        "\n",
        "# Adding the second hidden layer\n",
        "ann.add(tf.keras.layers.Dense(units=4,kernel_initializer='normal', activation='relu'))\n",
        "\n",
        "# Adding the output layer\n",
        "ann.add(tf.keras.layers.Dense(units=1, kernel_initializer='normal',activation='relu'))"
      ],
      "execution_count": 571,
      "outputs": []
    },
    {
      "cell_type": "code",
      "metadata": {
        "id": "HQWojTI7jig0",
        "colab_type": "code",
        "colab": {}
      },
      "source": [
        "# compiling network\n",
        "ann.compile(optimizer = 'adam', loss = 'mean_absolute_error', metrics = ['mean_absolute_error'])\n"
      ],
      "execution_count": 572,
      "outputs": []
    },
    {
      "cell_type": "code",
      "metadata": {
        "id": "QftwdgjRkhEQ",
        "colab_type": "code",
        "colab": {
          "base_uri": "https://localhost:8080/",
          "height": 279
        },
        "outputId": "03487a56-22b5-4bf9-d8dc-28497586a69e"
      },
      "source": [
        "ann.summary()"
      ],
      "execution_count": 573,
      "outputs": [
        {
          "output_type": "stream",
          "text": [
            "Model: \"sequential_20\"\n",
            "_________________________________________________________________\n",
            "Layer (type)                 Output Shape              Param #   \n",
            "=================================================================\n",
            "dense_60 (Dense)             (None, 4)                 28        \n",
            "_________________________________________________________________\n",
            "dense_61 (Dense)             (None, 4)                 20        \n",
            "_________________________________________________________________\n",
            "dense_62 (Dense)             (None, 1)                 5         \n",
            "=================================================================\n",
            "Total params: 53\n",
            "Trainable params: 53\n",
            "Non-trainable params: 0\n",
            "_________________________________________________________________\n"
          ],
          "name": "stdout"
        }
      ]
    },
    {
      "cell_type": "code",
      "metadata": {
        "id": "JpP_by7nr1PP",
        "colab_type": "code",
        "colab": {
          "base_uri": "https://localhost:8080/",
          "height": 1000
        },
        "outputId": "3da1b785-c707-44e5-8ebd-544ed83abc7d"
      },
      "source": [
        "his=ann.fit(x_train, y_train,validation_split=0.15, batch_size = 32, epochs = 100)"
      ],
      "execution_count": 574,
      "outputs": [
        {
          "output_type": "stream",
          "text": [
            "Epoch 1/100\n",
            "11/11 [==============================] - 0s 10ms/step - loss: 0.4854 - mean_absolute_error: 0.4854 - val_loss: 0.4986 - val_mean_absolute_error: 0.4986\n",
            "Epoch 2/100\n",
            "11/11 [==============================] - 0s 5ms/step - loss: 0.4730 - mean_absolute_error: 0.4730 - val_loss: 0.4857 - val_mean_absolute_error: 0.4857\n",
            "Epoch 3/100\n",
            "11/11 [==============================] - 0s 4ms/step - loss: 0.4595 - mean_absolute_error: 0.4595 - val_loss: 0.4713 - val_mean_absolute_error: 0.4713\n",
            "Epoch 4/100\n",
            "11/11 [==============================] - 0s 4ms/step - loss: 0.4443 - mean_absolute_error: 0.4443 - val_loss: 0.4548 - val_mean_absolute_error: 0.4548\n",
            "Epoch 5/100\n",
            "11/11 [==============================] - 0s 4ms/step - loss: 0.4267 - mean_absolute_error: 0.4267 - val_loss: 0.4356 - val_mean_absolute_error: 0.4356\n",
            "Epoch 6/100\n",
            "11/11 [==============================] - 0s 4ms/step - loss: 0.4060 - mean_absolute_error: 0.4060 - val_loss: 0.4129 - val_mean_absolute_error: 0.4129\n",
            "Epoch 7/100\n",
            "11/11 [==============================] - 0s 4ms/step - loss: 0.3814 - mean_absolute_error: 0.3814 - val_loss: 0.3856 - val_mean_absolute_error: 0.3856\n",
            "Epoch 8/100\n",
            "11/11 [==============================] - 0s 4ms/step - loss: 0.3519 - mean_absolute_error: 0.3519 - val_loss: 0.3528 - val_mean_absolute_error: 0.3528\n",
            "Epoch 9/100\n",
            "11/11 [==============================] - 0s 4ms/step - loss: 0.3167 - mean_absolute_error: 0.3167 - val_loss: 0.3138 - val_mean_absolute_error: 0.3138\n",
            "Epoch 10/100\n",
            "11/11 [==============================] - 0s 5ms/step - loss: 0.2761 - mean_absolute_error: 0.2761 - val_loss: 0.2687 - val_mean_absolute_error: 0.2687\n",
            "Epoch 11/100\n",
            "11/11 [==============================] - 0s 4ms/step - loss: 0.2291 - mean_absolute_error: 0.2291 - val_loss: 0.2183 - val_mean_absolute_error: 0.2183\n",
            "Epoch 12/100\n",
            "11/11 [==============================] - 0s 4ms/step - loss: 0.1810 - mean_absolute_error: 0.1810 - val_loss: 0.1698 - val_mean_absolute_error: 0.1698\n",
            "Epoch 13/100\n",
            "11/11 [==============================] - 0s 4ms/step - loss: 0.1398 - mean_absolute_error: 0.1398 - val_loss: 0.1290 - val_mean_absolute_error: 0.1290\n",
            "Epoch 14/100\n",
            "11/11 [==============================] - 0s 4ms/step - loss: 0.1145 - mean_absolute_error: 0.1145 - val_loss: 0.1105 - val_mean_absolute_error: 0.1105\n",
            "Epoch 15/100\n",
            "11/11 [==============================] - 0s 4ms/step - loss: 0.1071 - mean_absolute_error: 0.1071 - val_loss: 0.1064 - val_mean_absolute_error: 0.1064\n",
            "Epoch 16/100\n",
            "11/11 [==============================] - 0s 4ms/step - loss: 0.1069 - mean_absolute_error: 0.1069 - val_loss: 0.1058 - val_mean_absolute_error: 0.1058\n",
            "Epoch 17/100\n",
            "11/11 [==============================] - 0s 4ms/step - loss: 0.1061 - mean_absolute_error: 0.1061 - val_loss: 0.1053 - val_mean_absolute_error: 0.1053\n",
            "Epoch 18/100\n",
            "11/11 [==============================] - 0s 4ms/step - loss: 0.1051 - mean_absolute_error: 0.1051 - val_loss: 0.1049 - val_mean_absolute_error: 0.1049\n",
            "Epoch 19/100\n",
            "11/11 [==============================] - 0s 4ms/step - loss: 0.1042 - mean_absolute_error: 0.1042 - val_loss: 0.1045 - val_mean_absolute_error: 0.1045\n",
            "Epoch 20/100\n",
            "11/11 [==============================] - 0s 5ms/step - loss: 0.1034 - mean_absolute_error: 0.1034 - val_loss: 0.1039 - val_mean_absolute_error: 0.1039\n",
            "Epoch 21/100\n",
            "11/11 [==============================] - 0s 4ms/step - loss: 0.1027 - mean_absolute_error: 0.1027 - val_loss: 0.1032 - val_mean_absolute_error: 0.1032\n",
            "Epoch 22/100\n",
            "11/11 [==============================] - 0s 5ms/step - loss: 0.1020 - mean_absolute_error: 0.1020 - val_loss: 0.1027 - val_mean_absolute_error: 0.1027\n",
            "Epoch 23/100\n",
            "11/11 [==============================] - 0s 4ms/step - loss: 0.1013 - mean_absolute_error: 0.1013 - val_loss: 0.1020 - val_mean_absolute_error: 0.1020\n",
            "Epoch 24/100\n",
            "11/11 [==============================] - 0s 4ms/step - loss: 0.1007 - mean_absolute_error: 0.1007 - val_loss: 0.1014 - val_mean_absolute_error: 0.1014\n",
            "Epoch 25/100\n",
            "11/11 [==============================] - 0s 4ms/step - loss: 0.0999 - mean_absolute_error: 0.0999 - val_loss: 0.1009 - val_mean_absolute_error: 0.1009\n",
            "Epoch 26/100\n",
            "11/11 [==============================] - 0s 4ms/step - loss: 0.0993 - mean_absolute_error: 0.0993 - val_loss: 0.1003 - val_mean_absolute_error: 0.1003\n",
            "Epoch 27/100\n",
            "11/11 [==============================] - 0s 5ms/step - loss: 0.0986 - mean_absolute_error: 0.0986 - val_loss: 0.0997 - val_mean_absolute_error: 0.0997\n",
            "Epoch 28/100\n",
            "11/11 [==============================] - 0s 4ms/step - loss: 0.0981 - mean_absolute_error: 0.0981 - val_loss: 0.0991 - val_mean_absolute_error: 0.0991\n",
            "Epoch 29/100\n",
            "11/11 [==============================] - 0s 5ms/step - loss: 0.0974 - mean_absolute_error: 0.0974 - val_loss: 0.0986 - val_mean_absolute_error: 0.0986\n",
            "Epoch 30/100\n",
            "11/11 [==============================] - 0s 4ms/step - loss: 0.0965 - mean_absolute_error: 0.0965 - val_loss: 0.0981 - val_mean_absolute_error: 0.0981\n",
            "Epoch 31/100\n",
            "11/11 [==============================] - 0s 4ms/step - loss: 0.0960 - mean_absolute_error: 0.0960 - val_loss: 0.0976 - val_mean_absolute_error: 0.0976\n",
            "Epoch 32/100\n",
            "11/11 [==============================] - 0s 4ms/step - loss: 0.0954 - mean_absolute_error: 0.0954 - val_loss: 0.0970 - val_mean_absolute_error: 0.0970\n",
            "Epoch 33/100\n",
            "11/11 [==============================] - 0s 4ms/step - loss: 0.0947 - mean_absolute_error: 0.0947 - val_loss: 0.0964 - val_mean_absolute_error: 0.0964\n",
            "Epoch 34/100\n",
            "11/11 [==============================] - 0s 4ms/step - loss: 0.0941 - mean_absolute_error: 0.0941 - val_loss: 0.0958 - val_mean_absolute_error: 0.0958\n",
            "Epoch 35/100\n",
            "11/11 [==============================] - 0s 4ms/step - loss: 0.0936 - mean_absolute_error: 0.0936 - val_loss: 0.0952 - val_mean_absolute_error: 0.0952\n",
            "Epoch 36/100\n",
            "11/11 [==============================] - 0s 4ms/step - loss: 0.0930 - mean_absolute_error: 0.0930 - val_loss: 0.0948 - val_mean_absolute_error: 0.0948\n",
            "Epoch 37/100\n",
            "11/11 [==============================] - 0s 4ms/step - loss: 0.0923 - mean_absolute_error: 0.0923 - val_loss: 0.0942 - val_mean_absolute_error: 0.0942\n",
            "Epoch 38/100\n",
            "11/11 [==============================] - 0s 4ms/step - loss: 0.0916 - mean_absolute_error: 0.0916 - val_loss: 0.0935 - val_mean_absolute_error: 0.0935\n",
            "Epoch 39/100\n",
            "11/11 [==============================] - 0s 5ms/step - loss: 0.0910 - mean_absolute_error: 0.0910 - val_loss: 0.0930 - val_mean_absolute_error: 0.0930\n",
            "Epoch 40/100\n",
            "11/11 [==============================] - 0s 4ms/step - loss: 0.0904 - mean_absolute_error: 0.0904 - val_loss: 0.0926 - val_mean_absolute_error: 0.0926\n",
            "Epoch 41/100\n",
            "11/11 [==============================] - 0s 4ms/step - loss: 0.0897 - mean_absolute_error: 0.0897 - val_loss: 0.0919 - val_mean_absolute_error: 0.0919\n",
            "Epoch 42/100\n",
            "11/11 [==============================] - 0s 5ms/step - loss: 0.0891 - mean_absolute_error: 0.0891 - val_loss: 0.0914 - val_mean_absolute_error: 0.0914\n",
            "Epoch 43/100\n",
            "11/11 [==============================] - 0s 4ms/step - loss: 0.0885 - mean_absolute_error: 0.0885 - val_loss: 0.0908 - val_mean_absolute_error: 0.0908\n",
            "Epoch 44/100\n",
            "11/11 [==============================] - 0s 4ms/step - loss: 0.0879 - mean_absolute_error: 0.0879 - val_loss: 0.0902 - val_mean_absolute_error: 0.0902\n",
            "Epoch 45/100\n",
            "11/11 [==============================] - 0s 4ms/step - loss: 0.0872 - mean_absolute_error: 0.0872 - val_loss: 0.0896 - val_mean_absolute_error: 0.0896\n",
            "Epoch 46/100\n",
            "11/11 [==============================] - 0s 4ms/step - loss: 0.0866 - mean_absolute_error: 0.0866 - val_loss: 0.0890 - val_mean_absolute_error: 0.0890\n",
            "Epoch 47/100\n",
            "11/11 [==============================] - 0s 4ms/step - loss: 0.0860 - mean_absolute_error: 0.0860 - val_loss: 0.0883 - val_mean_absolute_error: 0.0883\n",
            "Epoch 48/100\n",
            "11/11 [==============================] - 0s 5ms/step - loss: 0.0855 - mean_absolute_error: 0.0855 - val_loss: 0.0877 - val_mean_absolute_error: 0.0877\n",
            "Epoch 49/100\n",
            "11/11 [==============================] - 0s 4ms/step - loss: 0.0846 - mean_absolute_error: 0.0846 - val_loss: 0.0872 - val_mean_absolute_error: 0.0872\n",
            "Epoch 50/100\n",
            "11/11 [==============================] - 0s 4ms/step - loss: 0.0839 - mean_absolute_error: 0.0839 - val_loss: 0.0864 - val_mean_absolute_error: 0.0864\n",
            "Epoch 51/100\n",
            "11/11 [==============================] - 0s 4ms/step - loss: 0.0833 - mean_absolute_error: 0.0833 - val_loss: 0.0856 - val_mean_absolute_error: 0.0856\n",
            "Epoch 52/100\n",
            "11/11 [==============================] - 0s 4ms/step - loss: 0.0824 - mean_absolute_error: 0.0824 - val_loss: 0.0849 - val_mean_absolute_error: 0.0849\n",
            "Epoch 53/100\n",
            "11/11 [==============================] - 0s 4ms/step - loss: 0.0816 - mean_absolute_error: 0.0816 - val_loss: 0.0842 - val_mean_absolute_error: 0.0842\n",
            "Epoch 54/100\n",
            "11/11 [==============================] - 0s 4ms/step - loss: 0.0809 - mean_absolute_error: 0.0809 - val_loss: 0.0834 - val_mean_absolute_error: 0.0834\n",
            "Epoch 55/100\n",
            "11/11 [==============================] - 0s 4ms/step - loss: 0.0801 - mean_absolute_error: 0.0801 - val_loss: 0.0827 - val_mean_absolute_error: 0.0827\n",
            "Epoch 56/100\n",
            "11/11 [==============================] - 0s 4ms/step - loss: 0.0793 - mean_absolute_error: 0.0793 - val_loss: 0.0820 - val_mean_absolute_error: 0.0820\n",
            "Epoch 57/100\n",
            "11/11 [==============================] - 0s 5ms/step - loss: 0.0786 - mean_absolute_error: 0.0786 - val_loss: 0.0810 - val_mean_absolute_error: 0.0810\n",
            "Epoch 58/100\n",
            "11/11 [==============================] - 0s 4ms/step - loss: 0.0777 - mean_absolute_error: 0.0777 - val_loss: 0.0802 - val_mean_absolute_error: 0.0802\n",
            "Epoch 59/100\n",
            "11/11 [==============================] - 0s 4ms/step - loss: 0.0767 - mean_absolute_error: 0.0767 - val_loss: 0.0795 - val_mean_absolute_error: 0.0795\n",
            "Epoch 60/100\n",
            "11/11 [==============================] - 0s 4ms/step - loss: 0.0760 - mean_absolute_error: 0.0760 - val_loss: 0.0788 - val_mean_absolute_error: 0.0788\n",
            "Epoch 61/100\n",
            "11/11 [==============================] - 0s 4ms/step - loss: 0.0750 - mean_absolute_error: 0.0750 - val_loss: 0.0778 - val_mean_absolute_error: 0.0778\n",
            "Epoch 62/100\n",
            "11/11 [==============================] - 0s 5ms/step - loss: 0.0741 - mean_absolute_error: 0.0741 - val_loss: 0.0769 - val_mean_absolute_error: 0.0769\n",
            "Epoch 63/100\n",
            "11/11 [==============================] - 0s 4ms/step - loss: 0.0732 - mean_absolute_error: 0.0732 - val_loss: 0.0755 - val_mean_absolute_error: 0.0755\n",
            "Epoch 64/100\n",
            "11/11 [==============================] - 0s 4ms/step - loss: 0.0722 - mean_absolute_error: 0.0722 - val_loss: 0.0747 - val_mean_absolute_error: 0.0747\n",
            "Epoch 65/100\n",
            "11/11 [==============================] - 0s 4ms/step - loss: 0.0712 - mean_absolute_error: 0.0712 - val_loss: 0.0738 - val_mean_absolute_error: 0.0738\n",
            "Epoch 66/100\n",
            "11/11 [==============================] - 0s 4ms/step - loss: 0.0702 - mean_absolute_error: 0.0702 - val_loss: 0.0727 - val_mean_absolute_error: 0.0727\n",
            "Epoch 67/100\n",
            "11/11 [==============================] - 0s 5ms/step - loss: 0.0693 - mean_absolute_error: 0.0693 - val_loss: 0.0717 - val_mean_absolute_error: 0.0717\n",
            "Epoch 68/100\n",
            "11/11 [==============================] - 0s 4ms/step - loss: 0.0681 - mean_absolute_error: 0.0681 - val_loss: 0.0704 - val_mean_absolute_error: 0.0704\n",
            "Epoch 69/100\n",
            "11/11 [==============================] - 0s 4ms/step - loss: 0.0671 - mean_absolute_error: 0.0671 - val_loss: 0.0693 - val_mean_absolute_error: 0.0693\n",
            "Epoch 70/100\n",
            "11/11 [==============================] - 0s 4ms/step - loss: 0.0663 - mean_absolute_error: 0.0663 - val_loss: 0.0686 - val_mean_absolute_error: 0.0686\n",
            "Epoch 71/100\n",
            "11/11 [==============================] - 0s 4ms/step - loss: 0.0650 - mean_absolute_error: 0.0650 - val_loss: 0.0672 - val_mean_absolute_error: 0.0672\n",
            "Epoch 72/100\n",
            "11/11 [==============================] - 0s 4ms/step - loss: 0.0639 - mean_absolute_error: 0.0639 - val_loss: 0.0662 - val_mean_absolute_error: 0.0662\n",
            "Epoch 73/100\n",
            "11/11 [==============================] - 0s 4ms/step - loss: 0.0629 - mean_absolute_error: 0.0629 - val_loss: 0.0652 - val_mean_absolute_error: 0.0652\n",
            "Epoch 74/100\n",
            "11/11 [==============================] - 0s 4ms/step - loss: 0.0616 - mean_absolute_error: 0.0616 - val_loss: 0.0635 - val_mean_absolute_error: 0.0635\n",
            "Epoch 75/100\n",
            "11/11 [==============================] - 0s 4ms/step - loss: 0.0605 - mean_absolute_error: 0.0605 - val_loss: 0.0623 - val_mean_absolute_error: 0.0623\n",
            "Epoch 76/100\n",
            "11/11 [==============================] - 0s 4ms/step - loss: 0.0598 - mean_absolute_error: 0.0598 - val_loss: 0.0615 - val_mean_absolute_error: 0.0615\n",
            "Epoch 77/100\n",
            "11/11 [==============================] - 0s 4ms/step - loss: 0.0581 - mean_absolute_error: 0.0581 - val_loss: 0.0598 - val_mean_absolute_error: 0.0598\n",
            "Epoch 78/100\n",
            "11/11 [==============================] - 0s 4ms/step - loss: 0.0570 - mean_absolute_error: 0.0570 - val_loss: 0.0587 - val_mean_absolute_error: 0.0587\n",
            "Epoch 79/100\n",
            "11/11 [==============================] - 0s 4ms/step - loss: 0.0557 - mean_absolute_error: 0.0557 - val_loss: 0.0574 - val_mean_absolute_error: 0.0574\n",
            "Epoch 80/100\n",
            "11/11 [==============================] - 0s 4ms/step - loss: 0.0546 - mean_absolute_error: 0.0546 - val_loss: 0.0559 - val_mean_absolute_error: 0.0559\n",
            "Epoch 81/100\n",
            "11/11 [==============================] - 0s 4ms/step - loss: 0.0534 - mean_absolute_error: 0.0534 - val_loss: 0.0547 - val_mean_absolute_error: 0.0547\n",
            "Epoch 82/100\n",
            "11/11 [==============================] - 0s 4ms/step - loss: 0.0522 - mean_absolute_error: 0.0522 - val_loss: 0.0533 - val_mean_absolute_error: 0.0533\n",
            "Epoch 83/100\n",
            "11/11 [==============================] - 0s 4ms/step - loss: 0.0511 - mean_absolute_error: 0.0511 - val_loss: 0.0522 - val_mean_absolute_error: 0.0522\n",
            "Epoch 84/100\n",
            "11/11 [==============================] - 0s 4ms/step - loss: 0.0498 - mean_absolute_error: 0.0498 - val_loss: 0.0507 - val_mean_absolute_error: 0.0507\n",
            "Epoch 85/100\n",
            "11/11 [==============================] - 0s 4ms/step - loss: 0.0484 - mean_absolute_error: 0.0484 - val_loss: 0.0492 - val_mean_absolute_error: 0.0492\n",
            "Epoch 86/100\n",
            "11/11 [==============================] - 0s 5ms/step - loss: 0.0472 - mean_absolute_error: 0.0472 - val_loss: 0.0478 - val_mean_absolute_error: 0.0478\n",
            "Epoch 87/100\n",
            "11/11 [==============================] - 0s 4ms/step - loss: 0.0458 - mean_absolute_error: 0.0458 - val_loss: 0.0463 - val_mean_absolute_error: 0.0463\n",
            "Epoch 88/100\n",
            "11/11 [==============================] - 0s 4ms/step - loss: 0.0445 - mean_absolute_error: 0.0445 - val_loss: 0.0449 - val_mean_absolute_error: 0.0449\n",
            "Epoch 89/100\n",
            "11/11 [==============================] - 0s 4ms/step - loss: 0.0436 - mean_absolute_error: 0.0436 - val_loss: 0.0433 - val_mean_absolute_error: 0.0433\n",
            "Epoch 90/100\n",
            "11/11 [==============================] - 0s 4ms/step - loss: 0.0418 - mean_absolute_error: 0.0418 - val_loss: 0.0420 - val_mean_absolute_error: 0.0420\n",
            "Epoch 91/100\n",
            "11/11 [==============================] - 0s 4ms/step - loss: 0.0403 - mean_absolute_error: 0.0403 - val_loss: 0.0403 - val_mean_absolute_error: 0.0403\n",
            "Epoch 92/100\n",
            "11/11 [==============================] - 0s 4ms/step - loss: 0.0390 - mean_absolute_error: 0.0390 - val_loss: 0.0388 - val_mean_absolute_error: 0.0388\n",
            "Epoch 93/100\n",
            "11/11 [==============================] - 0s 4ms/step - loss: 0.0379 - mean_absolute_error: 0.0379 - val_loss: 0.0373 - val_mean_absolute_error: 0.0373\n",
            "Epoch 94/100\n",
            "11/11 [==============================] - 0s 4ms/step - loss: 0.0364 - mean_absolute_error: 0.0364 - val_loss: 0.0358 - val_mean_absolute_error: 0.0358\n",
            "Epoch 95/100\n",
            "11/11 [==============================] - 0s 5ms/step - loss: 0.0352 - mean_absolute_error: 0.0352 - val_loss: 0.0343 - val_mean_absolute_error: 0.0343\n",
            "Epoch 96/100\n",
            "11/11 [==============================] - 0s 4ms/step - loss: 0.0334 - mean_absolute_error: 0.0334 - val_loss: 0.0329 - val_mean_absolute_error: 0.0329\n",
            "Epoch 97/100\n",
            "11/11 [==============================] - 0s 4ms/step - loss: 0.0318 - mean_absolute_error: 0.0318 - val_loss: 0.0313 - val_mean_absolute_error: 0.0313\n",
            "Epoch 98/100\n",
            "11/11 [==============================] - 0s 5ms/step - loss: 0.0301 - mean_absolute_error: 0.0301 - val_loss: 0.0297 - val_mean_absolute_error: 0.0297\n",
            "Epoch 99/100\n",
            "11/11 [==============================] - 0s 4ms/step - loss: 0.0287 - mean_absolute_error: 0.0287 - val_loss: 0.0281 - val_mean_absolute_error: 0.0281\n",
            "Epoch 100/100\n",
            "11/11 [==============================] - 0s 4ms/step - loss: 0.0272 - mean_absolute_error: 0.0272 - val_loss: 0.0269 - val_mean_absolute_error: 0.0269\n"
          ],
          "name": "stdout"
        }
      ]
    },
    {
      "cell_type": "code",
      "metadata": {
        "id": "NljnPGi4vlHw",
        "colab_type": "code",
        "colab": {
          "base_uri": "https://localhost:8080/",
          "height": 1000
        },
        "outputId": "d22b741d-0574-482e-c3c7-4d5561be5a00"
      },
      "source": [
        "ann_pred=ann.predict(x_test)\n",
        "ann_pred"
      ],
      "execution_count": 575,
      "outputs": [
        {
          "output_type": "execute_result",
          "data": {
            "text/plain": [
              "array([[0.42833602],\n",
              "       [0.47037643],\n",
              "       [0.33328155],\n",
              "       [0.5985125 ],\n",
              "       [0.41918856],\n",
              "       [0.60075796],\n",
              "       [0.68772423],\n",
              "       [0.70498925],\n",
              "       [0.4360283 ],\n",
              "       [0.35929942],\n",
              "       [0.5362163 ],\n",
              "       [0.67428064],\n",
              "       [0.63863856],\n",
              "       [0.8105667 ],\n",
              "       [0.32449293],\n",
              "       [0.3718517 ],\n",
              "       [0.554708  ],\n",
              "       [0.6677224 ],\n",
              "       [0.47530875],\n",
              "       [0.09654018],\n",
              "       [0.5561693 ],\n",
              "       [0.43646634],\n",
              "       [0.5402734 ],\n",
              "       [0.28986883],\n",
              "       [0.7949191 ],\n",
              "       [0.5060728 ],\n",
              "       [0.5000398 ],\n",
              "       [0.51804787],\n",
              "       [0.6866027 ],\n",
              "       [0.6602988 ],\n",
              "       [0.5790474 ],\n",
              "       [0.5057538 ],\n",
              "       [0.65291417],\n",
              "       [0.47098178],\n",
              "       [0.72228974],\n",
              "       [0.6891328 ],\n",
              "       [0.40718797],\n",
              "       [0.7036134 ],\n",
              "       [0.49350104],\n",
              "       [0.49358234],\n",
              "       [0.68491924],\n",
              "       [0.3823485 ],\n",
              "       [0.32159013],\n",
              "       [0.39120275],\n",
              "       [0.44949752],\n",
              "       [0.5266973 ],\n",
              "       [0.48506522],\n",
              "       [0.61889136],\n",
              "       [0.4499393 ],\n",
              "       [0.37998697],\n",
              "       [0.39139608],\n",
              "       [0.43872392],\n",
              "       [0.5802793 ],\n",
              "       [0.60819095],\n",
              "       [0.43746132],\n",
              "       [0.3435782 ],\n",
              "       [0.51451814],\n",
              "       [0.6381981 ],\n",
              "       [0.5204479 ],\n",
              "       [0.65741783],\n",
              "       [0.43074197],\n",
              "       [0.5139708 ],\n",
              "       [0.48181075],\n",
              "       [0.5400488 ],\n",
              "       [0.465495  ],\n",
              "       [0.5635639 ],\n",
              "       [0.6639692 ],\n",
              "       [0.35103822],\n",
              "       [0.46740767],\n",
              "       [0.55844194],\n",
              "       [0.5012389 ],\n",
              "       [0.6165403 ],\n",
              "       [0.27317193],\n",
              "       [0.6366132 ],\n",
              "       [0.5687034 ],\n",
              "       [0.33876827],\n",
              "       [0.6138013 ],\n",
              "       [0.670421  ],\n",
              "       [0.5835598 ],\n",
              "       [0.29621753],\n",
              "       [0.73812777],\n",
              "       [0.55048716],\n",
              "       [0.630189  ],\n",
              "       [0.46875706],\n",
              "       [0.36741155],\n",
              "       [0.41195446],\n",
              "       [0.5408263 ],\n",
              "       [0.44943592],\n",
              "       [0.58604693],\n",
              "       [0.38696128],\n",
              "       [0.659804  ],\n",
              "       [0.4342006 ],\n",
              "       [0.43552998],\n",
              "       [0.4090365 ],\n",
              "       [0.32493258],\n",
              "       [0.41952038],\n",
              "       [0.5249672 ],\n",
              "       [0.43564683],\n",
              "       [0.43638933],\n",
              "       [0.3911627 ]], dtype=float32)"
            ]
          },
          "metadata": {
            "tags": []
          },
          "execution_count": 575
        }
      ]
    },
    {
      "cell_type": "code",
      "metadata": {
        "id": "_YduPGi9rCGX",
        "colab_type": "code",
        "colab": {
          "base_uri": "https://localhost:8080/",
          "height": 54
        },
        "outputId": "7a5a6811-c99c-4ff3-c52b-46b4b5eb42de"
      },
      "source": [
        "ann.evaluate(x_test,y_test)"
      ],
      "execution_count": 576,
      "outputs": [
        {
          "output_type": "stream",
          "text": [
            "4/4 [==============================] - 0s 2ms/step - loss: 0.0258 - mean_absolute_error: 0.0258\n"
          ],
          "name": "stdout"
        },
        {
          "output_type": "execute_result",
          "data": {
            "text/plain": [
              "[0.025762973353266716, 0.025762973353266716]"
            ]
          },
          "metadata": {
            "tags": []
          },
          "execution_count": 576
        }
      ]
    },
    {
      "cell_type": "code",
      "metadata": {
        "id": "9IOw8JwCu0Rp",
        "colab_type": "code",
        "colab": {
          "base_uri": "https://localhost:8080/",
          "height": 36
        },
        "outputId": "3c7565a5-1f02-4724-de3e-17292e948c3e"
      },
      "source": [
        "from sklearn.metrics import explained_variance_score\n",
        "acc=explained_variance_score(y_test,ann_pred)\n",
        "# higher variance accuracy then random forest regression\n",
        "acc"
      ],
      "execution_count": 577,
      "outputs": [
        {
          "output_type": "execute_result",
          "data": {
            "text/plain": [
              "0.9574909723171398"
            ]
          },
          "metadata": {
            "tags": []
          },
          "execution_count": 577
        }
      ]
    },
    {
      "cell_type": "code",
      "metadata": {
        "id": "hGUjWbF5yE85",
        "colab_type": "code",
        "colab": {
          "base_uri": "https://localhost:8080/",
          "height": 295
        },
        "outputId": "e5dfe670-a414-451e-9204-0da48aae8a87"
      },
      "source": [
        "plt.plot(his.history['loss'])\n",
        "plt.plot(his.history['val_loss'])\n",
        "plt.title('Model loss')\n",
        "plt.ylabel('Loss')\n",
        "plt.xlabel('Epoch')\n",
        "plt.legend(['Train', 'Val'], loc='upper right')\n",
        "plt.show()"
      ],
      "execution_count": 578,
      "outputs": [
        {
          "output_type": "display_data",
          "data": {
            "image/png": "[encoded data removed]",
            "text/plain": [
              "<Figure size 432x288 with 1 Axes>"
            ]
          },
          "metadata": {
            "tags": [],
            "needs_background": "light"
          }
        }
      ]
    },
    {
      "cell_type": "code",
      "metadata": {
        "id": "9w69QBaW6xzI",
        "colab_type": "code",
        "colab": {}
      },
      "source": [
        ""
      ],
      "execution_count": 578,
      "outputs": []
    }
  ]
}